{
 "cells": [
  {
   "cell_type": "code",
   "execution_count": null,
   "id": "b51ee429",
   "metadata": {},
   "outputs": [],
   "source": [
    "# import pandas as pd\n",
    "\n",
    "import pandas as pd"
   ]
  },
  {
   "cell_type": "code",
   "execution_count": null,
   "id": "8ddf8100",
   "metadata": {},
   "outputs": [],
   "source": [
    "# import the csv\n",
    "\n",
    "df = pd.read_csv(r\"C:\\Users\\longb\\Downloads\\batting_avg.csv\")"
   ]
  },
  {
   "cell_type": "code",
   "execution_count": null,
   "id": "35953014",
   "metadata": {},
   "outputs": [],
   "source": [
    "# test csv\n",
    "\n",
    "df"
   ]
  },
  {
   "cell_type": "code",
   "execution_count": null,
   "id": "79114456",
   "metadata": {},
   "outputs": [],
   "source": [
    "# rename multiple columns in a list\n",
    "\n",
    "df = df.rename(columns = {'Mat': 'Matches', 'NO':'Not_Outs', 'HS':'Highest_Inns_Scored', 'BF':'Balls_Faced', 'SR':'Batting_Strike_Rate'})"
   ]
  },
  {
   "cell_type": "code",
   "execution_count": null,
   "id": "80cb0a69",
   "metadata": {},
   "outputs": [],
   "source": [
    "# check NULL values\n",
    "\n",
    "df.isnull().any()"
   ]
  },
  {
   "cell_type": "code",
   "execution_count": null,
   "id": "29e487eb",
   "metadata": {},
   "outputs": [],
   "source": [
    "df[df['Balls_Faced'].isna()==1]"
   ]
  },
  {
   "cell_type": "code",
   "execution_count": null,
   "id": "1c589d8b",
   "metadata": {},
   "outputs": [],
   "source": [
    "df['Balls_Faced'] = df['Balls_Faced'].fillna(0)"
   ]
  },
  {
   "cell_type": "code",
   "execution_count": null,
   "id": "70b2b4a0",
   "metadata": {},
   "outputs": [],
   "source": [
    "df['Batting_Strike_Rate'] = df['Batting_Strike_Rate'].fillna(0)"
   ]
  },
  {
   "cell_type": "code",
   "execution_count": null,
   "id": "36379b3c",
   "metadata": {},
   "outputs": [],
   "source": [
    "df[df['Player']=='VG Kambli (IND)']"
   ]
  },
  {
   "cell_type": "code",
   "execution_count": null,
   "id": "0b2817b6",
   "metadata": {},
   "outputs": [],
   "source": [
    "df[df['Player']=='GS Chappell (AUS)']"
   ]
  },
  {
   "cell_type": "code",
   "execution_count": null,
   "id": "598b1e47",
   "metadata": {},
   "outputs": [],
   "source": [
    "# Dropping duplicates"
   ]
  },
  {
   "cell_type": "code",
   "execution_count": null,
   "id": "af954a15",
   "metadata": {},
   "outputs": [],
   "source": [
    "df.duplicated()"
   ]
  },
  {
   "cell_type": "code",
   "execution_count": null,
   "id": "e02817f7",
   "metadata": {},
   "outputs": [],
   "source": [
    "# .duplicated to check if there are any dupes\n",
    "\n",
    "df[df['Player'].duplicated()==1]"
   ]
  },
  {
   "cell_type": "code",
   "execution_count": null,
   "id": "f48b45f0",
   "metadata": {},
   "outputs": [],
   "source": [
    "# isin shows all dupes\n",
    "\n",
    "df[df['Player'].isin(['GS Sobers (WI)', 'JB Hobbs (ENG)', 'S Chanderpaul (WI)'])]"
   ]
  },
  {
   "cell_type": "code",
   "execution_count": null,
   "id": "41db8a5e",
   "metadata": {},
   "outputs": [],
   "source": [
    "df = df.drop_duplicates()"
   ]
  },
  {
   "cell_type": "code",
   "execution_count": null,
   "id": "1e145106",
   "metadata": {},
   "outputs": [],
   "source": [
    "df[df['Player'].duplicated()==1]"
   ]
  },
  {
   "cell_type": "code",
   "execution_count": null,
   "id": "5edd1ba9",
   "metadata": {},
   "outputs": [],
   "source": [
    "# Split up Span into Start and End Date"
   ]
  },
  {
   "cell_type": "code",
   "execution_count": null,
   "id": "011083e6",
   "metadata": {},
   "outputs": [],
   "source": [
    "df['Span'].str.split(pat = '-')"
   ]
  },
  {
   "cell_type": "code",
   "execution_count": null,
   "id": "51236c37",
   "metadata": {},
   "outputs": [],
   "source": [
    "df['Rookie_Year'] = df['Span'].str.split(pat = '-').str[0]"
   ]
  },
  {
   "cell_type": "code",
   "execution_count": null,
   "id": "9c4c398d",
   "metadata": {},
   "outputs": [],
   "source": [
    "df['Span'].str.split(pat = '-').str[1]"
   ]
  },
  {
   "cell_type": "code",
   "execution_count": null,
   "id": "2cc03f5d",
   "metadata": {},
   "outputs": [],
   "source": [
    "df['Final_Year'] = df['Span'].str.split(pat = '-').str[1]"
   ]
  },
  {
   "cell_type": "code",
   "execution_count": null,
   "id": "bfe95f6e",
   "metadata": {},
   "outputs": [],
   "source": [
    "df"
   ]
  },
  {
   "cell_type": "code",
   "execution_count": null,
   "id": "5f77f8d7",
   "metadata": {},
   "outputs": [],
   "source": [
    "# Remove Span Columns now that we have rookie and final year"
   ]
  },
  {
   "cell_type": "code",
   "execution_count": null,
   "id": "67602f86",
   "metadata": {},
   "outputs": [],
   "source": [
    "df = df.drop(['Span'], axis = 1)"
   ]
  },
  {
   "cell_type": "code",
   "execution_count": null,
   "id": "61d11a25",
   "metadata": {},
   "outputs": [],
   "source": [
    "df.head()"
   ]
  },
  {
   "cell_type": "code",
   "execution_count": null,
   "id": "f748f639",
   "metadata": {},
   "outputs": [],
   "source": [
    "print(df.shape[1])"
   ]
  },
  {
   "cell_type": "code",
   "execution_count": null,
   "id": "2092de35",
   "metadata": {},
   "outputs": [],
   "source": [
    "print(df.columns.tolist())"
   ]
  },
  {
   "cell_type": "code",
   "execution_count": null,
   "id": "a7eb9560",
   "metadata": {},
   "outputs": [],
   "source": [
    "cols = df.columns.tolist()"
   ]
  },
  {
   "cell_type": "code",
   "execution_count": null,
   "id": "50146c88",
   "metadata": {},
   "outputs": [],
   "source": [
    "df_reordered = cols[-2:] + cols[:-2]"
   ]
  },
  {
   "cell_type": "code",
   "execution_count": null,
   "id": "c516c345",
   "metadata": {},
   "outputs": [],
   "source": [
    "df = df[df_reordered]"
   ]
  },
  {
   "cell_type": "code",
   "execution_count": null,
   "id": "a8efb2e4",
   "metadata": {},
   "outputs": [],
   "source": [
    "df.head()"
   ]
  },
  {
   "cell_type": "code",
   "execution_count": null,
   "id": "8a50cb1f",
   "metadata": {},
   "outputs": [],
   "source": [
    "# QUESTION -> Split up the country from the player."
   ]
  },
  {
   "cell_type": "code",
   "execution_count": null,
   "id": "69189d91",
   "metadata": {},
   "outputs": [],
   "source": [
    "df['Player'].str.split(pat = '(')"
   ]
  },
  {
   "cell_type": "code",
   "execution_count": null,
   "id": "3b35eadf",
   "metadata": {},
   "outputs": [],
   "source": [
    "df['Country'] = df['Player'].str.split(pat = '(').str[1]"
   ]
  },
  {
   "cell_type": "code",
   "execution_count": null,
   "id": "791ba9ee",
   "metadata": {},
   "outputs": [],
   "source": [
    "df['Country'].str.split(pat = ')')"
   ]
  },
  {
   "cell_type": "code",
   "execution_count": null,
   "id": "1a7d322f",
   "metadata": {},
   "outputs": [],
   "source": [
    "df['Country'] = df['Country'].str.split(pat = ')').str[0]"
   ]
  },
  {
   "cell_type": "code",
   "execution_count": null,
   "id": "78bbe660",
   "metadata": {},
   "outputs": [],
   "source": [
    "df['Country']"
   ]
  },
  {
   "cell_type": "code",
   "execution_count": null,
   "id": "447360a9",
   "metadata": {},
   "outputs": [],
   "source": [
    "df['Player'].head()"
   ]
  },
  {
   "cell_type": "code",
   "execution_count": null,
   "id": "5436f768",
   "metadata": {},
   "outputs": [],
   "source": [
    "df['Player'] = df['Player'].str.split(pat = '(').str[0]"
   ]
  },
  {
   "cell_type": "code",
   "execution_count": null,
   "id": "70c73fe5",
   "metadata": {},
   "outputs": [],
   "source": [
    "df.head()"
   ]
  },
  {
   "cell_type": "code",
   "execution_count": null,
   "id": "b899a277",
   "metadata": {},
   "outputs": [],
   "source": [
    "# Change DataTypes  "
   ]
  },
  {
   "cell_type": "code",
   "execution_count": null,
   "id": "134915d5",
   "metadata": {},
   "outputs": [],
   "source": [
    "df.dtypes"
   ]
  },
  {
   "cell_type": "code",
   "execution_count": null,
   "id": "5e15219a",
   "metadata": {},
   "outputs": [],
   "source": [
    "df['Highest_Inns_Scored'].str.split(pat = '*').str[0]"
   ]
  },
  {
   "cell_type": "code",
   "execution_count": null,
   "id": "d994591e",
   "metadata": {},
   "outputs": [],
   "source": [
    "df['Highest_Inns_Scored'] = df['Highest_Inns_Scored'].str.split(pat = '*').str[0]"
   ]
  },
  {
   "cell_type": "code",
   "execution_count": null,
   "id": "fbe12b7f",
   "metadata": {},
   "outputs": [],
   "source": [
    "df['Highest_Inns_Scored'].head()"
   ]
  },
  {
   "cell_type": "code",
   "execution_count": null,
   "id": "331d76ec",
   "metadata": {},
   "outputs": [],
   "source": [
    "df['Highest_Inns_Scored'] = df['Highest_Inns_Scored'].astype('int')"
   ]
  },
  {
   "cell_type": "code",
   "execution_count": null,
   "id": "e9707bb5",
   "metadata": {},
   "outputs": [],
   "source": [
    "df.dtypes"
   ]
  },
  {
   "cell_type": "code",
   "execution_count": null,
   "id": "c01c056b",
   "metadata": {},
   "outputs": [],
   "source": [
    "# QUESTION, fix rookie and final year - converting the data type from object to int"
   ]
  },
  {
   "cell_type": "code",
   "execution_count": null,
   "id": "0a86f924",
   "metadata": {},
   "outputs": [],
   "source": [
    "df['Rookie_Year'] = df['Rookie_Year'].astype('int')"
   ]
  },
  {
   "cell_type": "code",
   "execution_count": null,
   "id": "05347c5b",
   "metadata": {},
   "outputs": [],
   "source": [
    "df['Final_Year'] = df['Final_Year'].astype('int')"
   ]
  },
  {
   "cell_type": "code",
   "execution_count": null,
   "id": "5968be14",
   "metadata": {},
   "outputs": [],
   "source": [
    "df.dtypes"
   ]
  },
  {
   "cell_type": "code",
   "execution_count": null,
   "id": "75da29ce",
   "metadata": {},
   "outputs": [],
   "source": [
    "df['Batting_Strike_Rate'] = df['Batting_Strike_Rate'].str.split(pat = '-').str[0]"
   ]
  },
  {
   "cell_type": "code",
   "execution_count": null,
   "id": "c844e988",
   "metadata": {},
   "outputs": [],
   "source": [
    "df['Batting_Strike_Rate']"
   ]
  },
  {
   "cell_type": "code",
   "execution_count": null,
   "id": "7334752f",
   "metadata": {},
   "outputs": [],
   "source": [
    "df['Batting_Strike_Rate'].astype(float)"
   ]
  },
  {
   "cell_type": "code",
   "execution_count": null,
   "id": "a5dd4d23",
   "metadata": {},
   "outputs": [],
   "source": [
    "df['Batting_Strike_Rate'].unique()"
   ]
  },
  {
   "cell_type": "code",
   "execution_count": null,
   "id": "5139fd92",
   "metadata": {},
   "outputs": [],
   "source": [
    "df['Batting_Strike_Rate'] = pd.to_numeric(df['Batting_Strike_Rate'], errors='coerce')"
   ]
  },
  {
   "cell_type": "code",
   "execution_count": null,
   "id": "81004287",
   "metadata": {},
   "outputs": [],
   "source": [
    "df['Batting_Strike_Rate'].astype(float)"
   ]
  },
  {
   "cell_type": "code",
   "execution_count": null,
   "id": "ae8a2859",
   "metadata": {},
   "outputs": [],
   "source": [
    "df.dtypes"
   ]
  },
  {
   "cell_type": "code",
   "execution_count": null,
   "id": "8b52c2fb",
   "metadata": {},
   "outputs": [],
   "source": [
    "# Change Balls_Faced to int"
   ]
  },
  {
   "cell_type": "code",
   "execution_count": null,
   "id": "5f34d4ee",
   "metadata": {},
   "outputs": [],
   "source": [
    "df['Balls_Faced'] = df['Balls_Faced'].str.split(pat = '+').str[0]"
   ]
  },
  {
   "cell_type": "code",
   "execution_count": null,
   "id": "f0ce61c8",
   "metadata": {},
   "outputs": [],
   "source": [
    "df['Balls_Faced'].head()"
   ]
  },
  {
   "cell_type": "code",
   "execution_count": null,
   "id": "20d6f2d2",
   "metadata": {},
   "outputs": [],
   "source": [
    "df['Balls_Faced'].astype(int)"
   ]
  },
  {
   "cell_type": "code",
   "execution_count": null,
   "id": "3cc4ed35",
   "metadata": {},
   "outputs": [],
   "source": [
    "df['Balls_Faced'].unique()"
   ]
  },
  {
   "cell_type": "code",
   "execution_count": null,
   "id": "e490f286",
   "metadata": {},
   "outputs": [],
   "source": [
    "df['Balls_Faced'] = df['Balls_Faced'].str.split(pat = '-').str[0]"
   ]
  },
  {
   "cell_type": "code",
   "execution_count": null,
   "id": "71c54b49",
   "metadata": {},
   "outputs": [],
   "source": [
    "df['Balls_Faced'].unique()"
   ]
  },
  {
   "cell_type": "code",
   "execution_count": null,
   "id": "66bb793d",
   "metadata": {},
   "outputs": [],
   "source": [
    "df['Balls_Faced'].astype(int)"
   ]
  },
  {
   "cell_type": "code",
   "execution_count": 75,
   "id": "1cdbb406",
   "metadata": {},
   "outputs": [],
   "source": [
    "import numpy as np"
   ]
  },
  {
   "cell_type": "code",
   "execution_count": 78,
   "id": "89f5c642",
   "metadata": {},
   "outputs": [],
   "source": [
    "df['Balls_Faced'] = pd.to_numeric(df['Balls_Faced'], errors='coerce')"
   ]
  },
  {
   "cell_type": "code",
   "execution_count": 79,
   "id": "f9076359",
   "metadata": {},
   "outputs": [
    {
     "ename": "IntCastingNaNError",
     "evalue": "Cannot convert non-finite values (NA or inf) to integer",
     "output_type": "error",
     "traceback": [
      "\u001b[31m---------------------------------------------------------------------------\u001b[39m",
      "\u001b[31mIntCastingNaNError\u001b[39m                        Traceback (most recent call last)",
      "\u001b[36mCell\u001b[39m\u001b[36m \u001b[39m\u001b[32mIn[79]\u001b[39m\u001b[32m, line 1\u001b[39m\n\u001b[32m----> \u001b[39m\u001b[32m1\u001b[39m \u001b[43mdf\u001b[49m\u001b[43m[\u001b[49m\u001b[33;43m'\u001b[39;49m\u001b[33;43mBalls_Faced\u001b[39;49m\u001b[33;43m'\u001b[39;49m\u001b[43m]\u001b[49m\u001b[43m.\u001b[49m\u001b[43mastype\u001b[49m\u001b[43m(\u001b[49m\u001b[38;5;28;43mint\u001b[39;49m\u001b[43m)\u001b[49m\n",
      "\u001b[36mFile \u001b[39m\u001b[32mc:\\Users\\longb\\AppData\\Local\\Programs\\Python\\Python313\\Lib\\site-packages\\pandas\\core\\generic.py:6643\u001b[39m, in \u001b[36mNDFrame.astype\u001b[39m\u001b[34m(self, dtype, copy, errors)\u001b[39m\n\u001b[32m   6637\u001b[39m     results = [\n\u001b[32m   6638\u001b[39m         ser.astype(dtype, copy=copy, errors=errors) \u001b[38;5;28;01mfor\u001b[39;00m _, ser \u001b[38;5;129;01min\u001b[39;00m \u001b[38;5;28mself\u001b[39m.items()\n\u001b[32m   6639\u001b[39m     ]\n\u001b[32m   6641\u001b[39m \u001b[38;5;28;01melse\u001b[39;00m:\n\u001b[32m   6642\u001b[39m     \u001b[38;5;66;03m# else, only a single dtype is given\u001b[39;00m\n\u001b[32m-> \u001b[39m\u001b[32m6643\u001b[39m     new_data = \u001b[38;5;28;43mself\u001b[39;49m\u001b[43m.\u001b[49m\u001b[43m_mgr\u001b[49m\u001b[43m.\u001b[49m\u001b[43mastype\u001b[49m\u001b[43m(\u001b[49m\u001b[43mdtype\u001b[49m\u001b[43m=\u001b[49m\u001b[43mdtype\u001b[49m\u001b[43m,\u001b[49m\u001b[43m \u001b[49m\u001b[43mcopy\u001b[49m\u001b[43m=\u001b[49m\u001b[43mcopy\u001b[49m\u001b[43m,\u001b[49m\u001b[43m \u001b[49m\u001b[43merrors\u001b[49m\u001b[43m=\u001b[49m\u001b[43merrors\u001b[49m\u001b[43m)\u001b[49m\n\u001b[32m   6644\u001b[39m     res = \u001b[38;5;28mself\u001b[39m._constructor_from_mgr(new_data, axes=new_data.axes)\n\u001b[32m   6645\u001b[39m     \u001b[38;5;28;01mreturn\u001b[39;00m res.__finalize__(\u001b[38;5;28mself\u001b[39m, method=\u001b[33m\"\u001b[39m\u001b[33mastype\u001b[39m\u001b[33m\"\u001b[39m)\n",
      "\u001b[36mFile \u001b[39m\u001b[32mc:\\Users\\longb\\AppData\\Local\\Programs\\Python\\Python313\\Lib\\site-packages\\pandas\\core\\internals\\managers.py:430\u001b[39m, in \u001b[36mBaseBlockManager.astype\u001b[39m\u001b[34m(self, dtype, copy, errors)\u001b[39m\n\u001b[32m    427\u001b[39m \u001b[38;5;28;01melif\u001b[39;00m using_copy_on_write():\n\u001b[32m    428\u001b[39m     copy = \u001b[38;5;28;01mFalse\u001b[39;00m\n\u001b[32m--> \u001b[39m\u001b[32m430\u001b[39m \u001b[38;5;28;01mreturn\u001b[39;00m \u001b[38;5;28;43mself\u001b[39;49m\u001b[43m.\u001b[49m\u001b[43mapply\u001b[49m\u001b[43m(\u001b[49m\n\u001b[32m    431\u001b[39m \u001b[43m    \u001b[49m\u001b[33;43m\"\u001b[39;49m\u001b[33;43mastype\u001b[39;49m\u001b[33;43m\"\u001b[39;49m\u001b[43m,\u001b[49m\n\u001b[32m    432\u001b[39m \u001b[43m    \u001b[49m\u001b[43mdtype\u001b[49m\u001b[43m=\u001b[49m\u001b[43mdtype\u001b[49m\u001b[43m,\u001b[49m\n\u001b[32m    433\u001b[39m \u001b[43m    \u001b[49m\u001b[43mcopy\u001b[49m\u001b[43m=\u001b[49m\u001b[43mcopy\u001b[49m\u001b[43m,\u001b[49m\n\u001b[32m    434\u001b[39m \u001b[43m    \u001b[49m\u001b[43merrors\u001b[49m\u001b[43m=\u001b[49m\u001b[43merrors\u001b[49m\u001b[43m,\u001b[49m\n\u001b[32m    435\u001b[39m \u001b[43m    \u001b[49m\u001b[43musing_cow\u001b[49m\u001b[43m=\u001b[49m\u001b[43musing_copy_on_write\u001b[49m\u001b[43m(\u001b[49m\u001b[43m)\u001b[49m\u001b[43m,\u001b[49m\n\u001b[32m    436\u001b[39m \u001b[43m\u001b[49m\u001b[43m)\u001b[49m\n",
      "\u001b[36mFile \u001b[39m\u001b[32mc:\\Users\\longb\\AppData\\Local\\Programs\\Python\\Python313\\Lib\\site-packages\\pandas\\core\\internals\\managers.py:363\u001b[39m, in \u001b[36mBaseBlockManager.apply\u001b[39m\u001b[34m(self, f, align_keys, **kwargs)\u001b[39m\n\u001b[32m    361\u001b[39m         applied = b.apply(f, **kwargs)\n\u001b[32m    362\u001b[39m     \u001b[38;5;28;01melse\u001b[39;00m:\n\u001b[32m--> \u001b[39m\u001b[32m363\u001b[39m         applied = \u001b[38;5;28;43mgetattr\u001b[39;49m\u001b[43m(\u001b[49m\u001b[43mb\u001b[49m\u001b[43m,\u001b[49m\u001b[43m \u001b[49m\u001b[43mf\u001b[49m\u001b[43m)\u001b[49m\u001b[43m(\u001b[49m\u001b[43m*\u001b[49m\u001b[43m*\u001b[49m\u001b[43mkwargs\u001b[49m\u001b[43m)\u001b[49m\n\u001b[32m    364\u001b[39m     result_blocks = extend_blocks(applied, result_blocks)\n\u001b[32m    366\u001b[39m out = \u001b[38;5;28mtype\u001b[39m(\u001b[38;5;28mself\u001b[39m).from_blocks(result_blocks, \u001b[38;5;28mself\u001b[39m.axes)\n",
      "\u001b[36mFile \u001b[39m\u001b[32mc:\\Users\\longb\\AppData\\Local\\Programs\\Python\\Python313\\Lib\\site-packages\\pandas\\core\\internals\\blocks.py:758\u001b[39m, in \u001b[36mBlock.astype\u001b[39m\u001b[34m(self, dtype, copy, errors, using_cow, squeeze)\u001b[39m\n\u001b[32m    755\u001b[39m         \u001b[38;5;28;01mraise\u001b[39;00m \u001b[38;5;167;01mValueError\u001b[39;00m(\u001b[33m\"\u001b[39m\u001b[33mCan not squeeze with more than one column.\u001b[39m\u001b[33m\"\u001b[39m)\n\u001b[32m    756\u001b[39m     values = values[\u001b[32m0\u001b[39m, :]  \u001b[38;5;66;03m# type: ignore[call-overload]\u001b[39;00m\n\u001b[32m--> \u001b[39m\u001b[32m758\u001b[39m new_values = \u001b[43mastype_array_safe\u001b[49m\u001b[43m(\u001b[49m\u001b[43mvalues\u001b[49m\u001b[43m,\u001b[49m\u001b[43m \u001b[49m\u001b[43mdtype\u001b[49m\u001b[43m,\u001b[49m\u001b[43m \u001b[49m\u001b[43mcopy\u001b[49m\u001b[43m=\u001b[49m\u001b[43mcopy\u001b[49m\u001b[43m,\u001b[49m\u001b[43m \u001b[49m\u001b[43merrors\u001b[49m\u001b[43m=\u001b[49m\u001b[43merrors\u001b[49m\u001b[43m)\u001b[49m\n\u001b[32m    760\u001b[39m new_values = maybe_coerce_values(new_values)\n\u001b[32m    762\u001b[39m refs = \u001b[38;5;28;01mNone\u001b[39;00m\n",
      "\u001b[36mFile \u001b[39m\u001b[32mc:\\Users\\longb\\AppData\\Local\\Programs\\Python\\Python313\\Lib\\site-packages\\pandas\\core\\dtypes\\astype.py:237\u001b[39m, in \u001b[36mastype_array_safe\u001b[39m\u001b[34m(values, dtype, copy, errors)\u001b[39m\n\u001b[32m    234\u001b[39m     dtype = dtype.numpy_dtype\n\u001b[32m    236\u001b[39m \u001b[38;5;28;01mtry\u001b[39;00m:\n\u001b[32m--> \u001b[39m\u001b[32m237\u001b[39m     new_values = \u001b[43mastype_array\u001b[49m\u001b[43m(\u001b[49m\u001b[43mvalues\u001b[49m\u001b[43m,\u001b[49m\u001b[43m \u001b[49m\u001b[43mdtype\u001b[49m\u001b[43m,\u001b[49m\u001b[43m \u001b[49m\u001b[43mcopy\u001b[49m\u001b[43m=\u001b[49m\u001b[43mcopy\u001b[49m\u001b[43m)\u001b[49m\n\u001b[32m    238\u001b[39m \u001b[38;5;28;01mexcept\u001b[39;00m (\u001b[38;5;167;01mValueError\u001b[39;00m, \u001b[38;5;167;01mTypeError\u001b[39;00m):\n\u001b[32m    239\u001b[39m     \u001b[38;5;66;03m# e.g. _astype_nansafe can fail on object-dtype of strings\u001b[39;00m\n\u001b[32m    240\u001b[39m     \u001b[38;5;66;03m#  trying to convert to float\u001b[39;00m\n\u001b[32m    241\u001b[39m     \u001b[38;5;28;01mif\u001b[39;00m errors == \u001b[33m\"\u001b[39m\u001b[33mignore\u001b[39m\u001b[33m\"\u001b[39m:\n",
      "\u001b[36mFile \u001b[39m\u001b[32mc:\\Users\\longb\\AppData\\Local\\Programs\\Python\\Python313\\Lib\\site-packages\\pandas\\core\\dtypes\\astype.py:182\u001b[39m, in \u001b[36mastype_array\u001b[39m\u001b[34m(values, dtype, copy)\u001b[39m\n\u001b[32m    179\u001b[39m     values = values.astype(dtype, copy=copy)\n\u001b[32m    181\u001b[39m \u001b[38;5;28;01melse\u001b[39;00m:\n\u001b[32m--> \u001b[39m\u001b[32m182\u001b[39m     values = \u001b[43m_astype_nansafe\u001b[49m\u001b[43m(\u001b[49m\u001b[43mvalues\u001b[49m\u001b[43m,\u001b[49m\u001b[43m \u001b[49m\u001b[43mdtype\u001b[49m\u001b[43m,\u001b[49m\u001b[43m \u001b[49m\u001b[43mcopy\u001b[49m\u001b[43m=\u001b[49m\u001b[43mcopy\u001b[49m\u001b[43m)\u001b[49m\n\u001b[32m    184\u001b[39m \u001b[38;5;66;03m# in pandas we don't store numpy str dtypes, so convert to object\u001b[39;00m\n\u001b[32m    185\u001b[39m \u001b[38;5;28;01mif\u001b[39;00m \u001b[38;5;28misinstance\u001b[39m(dtype, np.dtype) \u001b[38;5;129;01mand\u001b[39;00m \u001b[38;5;28missubclass\u001b[39m(values.dtype.type, \u001b[38;5;28mstr\u001b[39m):\n",
      "\u001b[36mFile \u001b[39m\u001b[32mc:\\Users\\longb\\AppData\\Local\\Programs\\Python\\Python313\\Lib\\site-packages\\pandas\\core\\dtypes\\astype.py:101\u001b[39m, in \u001b[36m_astype_nansafe\u001b[39m\u001b[34m(arr, dtype, copy, skipna)\u001b[39m\n\u001b[32m     96\u001b[39m     \u001b[38;5;28;01mreturn\u001b[39;00m lib.ensure_string_array(\n\u001b[32m     97\u001b[39m         arr, skipna=skipna, convert_na_value=\u001b[38;5;28;01mFalse\u001b[39;00m\n\u001b[32m     98\u001b[39m     ).reshape(shape)\n\u001b[32m    100\u001b[39m \u001b[38;5;28;01melif\u001b[39;00m np.issubdtype(arr.dtype, np.floating) \u001b[38;5;129;01mand\u001b[39;00m dtype.kind \u001b[38;5;129;01min\u001b[39;00m \u001b[33m\"\u001b[39m\u001b[33miu\u001b[39m\u001b[33m\"\u001b[39m:\n\u001b[32m--> \u001b[39m\u001b[32m101\u001b[39m     \u001b[38;5;28;01mreturn\u001b[39;00m \u001b[43m_astype_float_to_int_nansafe\u001b[49m\u001b[43m(\u001b[49m\u001b[43marr\u001b[49m\u001b[43m,\u001b[49m\u001b[43m \u001b[49m\u001b[43mdtype\u001b[49m\u001b[43m,\u001b[49m\u001b[43m \u001b[49m\u001b[43mcopy\u001b[49m\u001b[43m)\u001b[49m\n\u001b[32m    103\u001b[39m \u001b[38;5;28;01melif\u001b[39;00m arr.dtype == \u001b[38;5;28mobject\u001b[39m:\n\u001b[32m    104\u001b[39m     \u001b[38;5;66;03m# if we have a datetime/timedelta array of objects\u001b[39;00m\n\u001b[32m    105\u001b[39m     \u001b[38;5;66;03m# then coerce to datetime64[ns] and use DatetimeArray.astype\u001b[39;00m\n\u001b[32m    107\u001b[39m     \u001b[38;5;28;01mif\u001b[39;00m lib.is_np_dtype(dtype, \u001b[33m\"\u001b[39m\u001b[33mM\u001b[39m\u001b[33m\"\u001b[39m):\n",
      "\u001b[36mFile \u001b[39m\u001b[32mc:\\Users\\longb\\AppData\\Local\\Programs\\Python\\Python313\\Lib\\site-packages\\pandas\\core\\dtypes\\astype.py:145\u001b[39m, in \u001b[36m_astype_float_to_int_nansafe\u001b[39m\u001b[34m(values, dtype, copy)\u001b[39m\n\u001b[32m    141\u001b[39m \u001b[38;5;250m\u001b[39m\u001b[33;03m\"\"\"\u001b[39;00m\n\u001b[32m    142\u001b[39m \u001b[33;03mastype with a check preventing converting NaN to an meaningless integer value.\u001b[39;00m\n\u001b[32m    143\u001b[39m \u001b[33;03m\"\"\"\u001b[39;00m\n\u001b[32m    144\u001b[39m \u001b[38;5;28;01mif\u001b[39;00m \u001b[38;5;129;01mnot\u001b[39;00m np.isfinite(values).all():\n\u001b[32m--> \u001b[39m\u001b[32m145\u001b[39m     \u001b[38;5;28;01mraise\u001b[39;00m IntCastingNaNError(\n\u001b[32m    146\u001b[39m         \u001b[33m\"\u001b[39m\u001b[33mCannot convert non-finite values (NA or inf) to integer\u001b[39m\u001b[33m\"\u001b[39m\n\u001b[32m    147\u001b[39m     )\n\u001b[32m    148\u001b[39m \u001b[38;5;28;01mif\u001b[39;00m dtype.kind == \u001b[33m\"\u001b[39m\u001b[33mu\u001b[39m\u001b[33m\"\u001b[39m:\n\u001b[32m    149\u001b[39m     \u001b[38;5;66;03m# GH#45151\u001b[39;00m\n\u001b[32m    150\u001b[39m     \u001b[38;5;28;01mif\u001b[39;00m \u001b[38;5;129;01mnot\u001b[39;00m (values >= \u001b[32m0\u001b[39m).all():\n",
      "\u001b[31mIntCastingNaNError\u001b[39m: Cannot convert non-finite values (NA or inf) to integer"
     ]
    }
   ],
   "source": [
    "df['Balls_Faced'].astype(int)"
   ]
  },
  {
   "cell_type": "code",
   "execution_count": 80,
   "id": "94e40d18",
   "metadata": {},
   "outputs": [
    {
     "data": {
      "text/plain": [
       "array([ 9800.,  1839.,  2667.,  1707.,   416.,  6558.,  1288.,  4957.,\n",
       "          nan,  2631.,  7491.,  4063., 22882.,  5363., 19176.,  2844.,\n",
       "       28903.,   178., 17913.,   665.,   108., 29437., 19753.,  2738.,\n",
       "       15164., 31258., 14372., 19375., 22782.,  2035., 10636., 12436.,\n",
       "       27395., 14184., 22461., 22612., 14349., 16077., 27002.,  3345.,\n",
       "        9613.,  2731., 22959., 16345.,   488.,   619., 10441.,  2445.,\n",
       "       15456.,   885.,   158., 11641.,  1799.,  8662., 15525.,  3118.,\n",
       "        3217.,  2110.])"
      ]
     },
     "execution_count": 80,
     "metadata": {},
     "output_type": "execute_result"
    }
   ],
   "source": [
    "df['Balls_Faced'].unique()"
   ]
  },
  {
   "cell_type": "code",
   "execution_count": 81,
   "id": "e73b77a6",
   "metadata": {},
   "outputs": [],
   "source": [
    "df['Balls_Faced'] = df['Balls_Faced'].fillna(0).astype(int)"
   ]
  },
  {
   "cell_type": "code",
   "execution_count": 82,
   "id": "4fefb79f",
   "metadata": {},
   "outputs": [
    {
     "data": {
      "text/plain": [
       "array([ 9800,  1839,  2667,  1707,   416,  6558,  1288,  4957,     0,\n",
       "        2631,  7491,  4063, 22882,  5363, 19176,  2844, 28903,   178,\n",
       "       17913,   665,   108, 29437, 19753,  2738, 15164, 31258, 14372,\n",
       "       19375, 22782,  2035, 10636, 12436, 27395, 14184, 22461, 22612,\n",
       "       14349, 16077, 27002,  3345,  9613,  2731, 22959, 16345,   488,\n",
       "         619, 10441,  2445, 15456,   885,   158, 11641,  1799,  8662,\n",
       "       15525,  3118,  3217,  2110])"
      ]
     },
     "execution_count": 82,
     "metadata": {},
     "output_type": "execute_result"
    }
   ],
   "source": [
    "df['Balls_Faced'].unique()"
   ]
  },
  {
   "cell_type": "code",
   "execution_count": 83,
   "id": "8d83147f",
   "metadata": {},
   "outputs": [
    {
     "data": {
      "text/plain": [
       "0      9800\n",
       "1      1839\n",
       "2      2667\n",
       "3      1707\n",
       "4       416\n",
       "      ...  \n",
       "60     8662\n",
       "61    15525\n",
       "62     3118\n",
       "63     3217\n",
       "64     2110\n",
       "Name: Balls_Faced, Length: 62, dtype: int64"
      ]
     },
     "execution_count": 83,
     "metadata": {},
     "output_type": "execute_result"
    }
   ],
   "source": [
    "df['Balls_Faced'].astype(int)"
   ]
  },
  {
   "cell_type": "code",
   "execution_count": 84,
   "id": "691bc01d",
   "metadata": {},
   "outputs": [],
   "source": [
    "# QUESTION Build out a career_length column"
   ]
  },
  {
   "cell_type": "code",
   "execution_count": 85,
   "id": "fa5ac6c8",
   "metadata": {},
   "outputs": [],
   "source": [
    "df['Career_Length'] = df['Final_Year'] - df['Rookie_Year']"
   ]
  },
  {
   "cell_type": "code",
   "execution_count": 86,
   "id": "618d3a25",
   "metadata": {},
   "outputs": [
    {
     "data": {
      "text/html": [
       "<div>\n",
       "<style scoped>\n",
       "    .dataframe tbody tr th:only-of-type {\n",
       "        vertical-align: middle;\n",
       "    }\n",
       "\n",
       "    .dataframe tbody tr th {\n",
       "        vertical-align: top;\n",
       "    }\n",
       "\n",
       "    .dataframe thead th {\n",
       "        text-align: right;\n",
       "    }\n",
       "</style>\n",
       "<table border=\"1\" class=\"dataframe\">\n",
       "  <thead>\n",
       "    <tr style=\"text-align: right;\">\n",
       "      <th></th>\n",
       "      <th>Rookie_Year</th>\n",
       "      <th>Final_Year</th>\n",
       "      <th>Player</th>\n",
       "      <th>Matches</th>\n",
       "      <th>Inns</th>\n",
       "      <th>Not_Outs</th>\n",
       "      <th>Runs</th>\n",
       "      <th>Highest_Inns_Scored</th>\n",
       "      <th>Ave</th>\n",
       "      <th>Balls_Faced</th>\n",
       "      <th>Batting_Strike_Rate</th>\n",
       "      <th>100</th>\n",
       "      <th>50</th>\n",
       "      <th>0</th>\n",
       "      <th>4s</th>\n",
       "      <th>6s</th>\n",
       "      <th>Country</th>\n",
       "      <th>Career_Length</th>\n",
       "    </tr>\n",
       "  </thead>\n",
       "  <tbody>\n",
       "    <tr>\n",
       "      <th>0</th>\n",
       "      <td>1928</td>\n",
       "      <td>1948</td>\n",
       "      <td>DG Bradman</td>\n",
       "      <td>52</td>\n",
       "      <td>80</td>\n",
       "      <td>10</td>\n",
       "      <td>6996</td>\n",
       "      <td>334</td>\n",
       "      <td>99.94</td>\n",
       "      <td>9800</td>\n",
       "      <td>58.60</td>\n",
       "      <td>29</td>\n",
       "      <td>13</td>\n",
       "      <td>7</td>\n",
       "      <td>626+</td>\n",
       "      <td>6</td>\n",
       "      <td>AUS</td>\n",
       "      <td>20</td>\n",
       "    </tr>\n",
       "    <tr>\n",
       "      <th>1</th>\n",
       "      <td>2022</td>\n",
       "      <td>2025</td>\n",
       "      <td>PHKD Mendis</td>\n",
       "      <td>12</td>\n",
       "      <td>21</td>\n",
       "      <td>2</td>\n",
       "      <td>1184</td>\n",
       "      <td>182</td>\n",
       "      <td>62.31</td>\n",
       "      <td>1839</td>\n",
       "      <td>64.38</td>\n",
       "      <td>5</td>\n",
       "      <td>4</td>\n",
       "      <td>-</td>\n",
       "      <td>123</td>\n",
       "      <td>23</td>\n",
       "      <td>SL</td>\n",
       "      <td>3</td>\n",
       "    </tr>\n",
       "    <tr>\n",
       "      <th>2</th>\n",
       "      <td>2015</td>\n",
       "      <td>2016</td>\n",
       "      <td>AC Voges</td>\n",
       "      <td>20</td>\n",
       "      <td>31</td>\n",
       "      <td>7</td>\n",
       "      <td>1485</td>\n",
       "      <td>269</td>\n",
       "      <td>61.87</td>\n",
       "      <td>2667</td>\n",
       "      <td>55.68</td>\n",
       "      <td>5</td>\n",
       "      <td>4</td>\n",
       "      <td>2</td>\n",
       "      <td>186</td>\n",
       "      <td>5</td>\n",
       "      <td>AUS</td>\n",
       "      <td>1</td>\n",
       "    </tr>\n",
       "    <tr>\n",
       "      <th>3</th>\n",
       "      <td>1963</td>\n",
       "      <td>1970</td>\n",
       "      <td>RG Pollock</td>\n",
       "      <td>23</td>\n",
       "      <td>41</td>\n",
       "      <td>4</td>\n",
       "      <td>2256</td>\n",
       "      <td>274</td>\n",
       "      <td>60.97</td>\n",
       "      <td>1707</td>\n",
       "      <td>54.48</td>\n",
       "      <td>7</td>\n",
       "      <td>11</td>\n",
       "      <td>1</td>\n",
       "      <td>246+</td>\n",
       "      <td>11</td>\n",
       "      <td>SA</td>\n",
       "      <td>7</td>\n",
       "    </tr>\n",
       "    <tr>\n",
       "      <th>4</th>\n",
       "      <td>1930</td>\n",
       "      <td>1954</td>\n",
       "      <td>GA Headley</td>\n",
       "      <td>22</td>\n",
       "      <td>40</td>\n",
       "      <td>4</td>\n",
       "      <td>2190</td>\n",
       "      <td>270</td>\n",
       "      <td>60.83</td>\n",
       "      <td>416</td>\n",
       "      <td>56.00</td>\n",
       "      <td>10</td>\n",
       "      <td>5</td>\n",
       "      <td>2</td>\n",
       "      <td>104+</td>\n",
       "      <td>1</td>\n",
       "      <td>WI</td>\n",
       "      <td>24</td>\n",
       "    </tr>\n",
       "  </tbody>\n",
       "</table>\n",
       "</div>"
      ],
      "text/plain": [
       "   Rookie_Year  Final_Year        Player  Matches  Inns  Not_Outs  Runs  \\\n",
       "0         1928        1948   DG Bradman        52    80        10  6996   \n",
       "1         2022        2025  PHKD Mendis        12    21         2  1184   \n",
       "2         2015        2016     AC Voges        20    31         7  1485   \n",
       "3         1963        1970   RG Pollock        23    41         4  2256   \n",
       "4         1930        1954   GA Headley        22    40         4  2190   \n",
       "\n",
       "   Highest_Inns_Scored    Ave  Balls_Faced  Batting_Strike_Rate  100  50  0  \\\n",
       "0                  334  99.94         9800                58.60   29  13  7   \n",
       "1                  182  62.31         1839                64.38    5   4  -   \n",
       "2                  269  61.87         2667                55.68    5   4  2   \n",
       "3                  274  60.97         1707                54.48    7  11  1   \n",
       "4                  270  60.83          416                56.00   10   5  2   \n",
       "\n",
       "     4s  6s Country  Career_Length  \n",
       "0  626+   6     AUS             20  \n",
       "1   123  23      SL              3  \n",
       "2   186   5     AUS              1  \n",
       "3  246+  11      SA              7  \n",
       "4  104+   1      WI             24  "
      ]
     },
     "execution_count": 86,
     "metadata": {},
     "output_type": "execute_result"
    }
   ],
   "source": [
    "df.head()"
   ]
  },
  {
   "cell_type": "code",
   "execution_count": null,
   "id": "6803b736",
   "metadata": {},
   "outputs": [
    {
     "data": {
      "text/plain": [
       "np.float64(13.0)"
      ]
     },
     "execution_count": 87,
     "metadata": {},
     "output_type": "execute_result"
    }
   ],
   "source": [
    "# Q1 : For all the players in the DataFrame, what is the average career length?\n",
    "\n",
    "df['Career_Length'].mean()"
   ]
  },
  {
   "cell_type": "code",
   "execution_count": 90,
   "id": "d803741f",
   "metadata": {},
   "outputs": [
    {
     "data": {
      "text/plain": [
       "np.float64(49.68205128205128)"
      ]
     },
     "execution_count": 90,
     "metadata": {},
     "output_type": "execute_result"
    }
   ],
   "source": [
    "# Q2 : What is the average batting_strike_rate for all players who have played for more than 10 years?\n",
    "\n",
    "df[df['Career_Length'] > 10]['Batting_Strike_Rate'].mean()"
   ]
  },
  {
   "cell_type": "code",
   "execution_count": 92,
   "id": "62c535f9",
   "metadata": {},
   "outputs": [
    {
     "data": {
      "text/plain": [
       "np.int64(23)"
      ]
     },
     "execution_count": 92,
     "metadata": {},
     "output_type": "execute_result"
    }
   ],
   "source": [
    "# Q3 : Find the number of players who played before 1960?\n",
    "\n",
    "df[df['Rookie_Year'] < 1960]['Player'].count()"
   ]
  },
  {
   "cell_type": "code",
   "execution_count": 98,
   "id": "2b7227f6",
   "metadata": {},
   "outputs": [
    {
     "data": {
      "text/html": [
       "<div>\n",
       "<style scoped>\n",
       "    .dataframe tbody tr th:only-of-type {\n",
       "        vertical-align: middle;\n",
       "    }\n",
       "\n",
       "    .dataframe tbody tr th {\n",
       "        vertical-align: top;\n",
       "    }\n",
       "\n",
       "    .dataframe thead th {\n",
       "        text-align: right;\n",
       "    }\n",
       "</style>\n",
       "<table border=\"1\" class=\"dataframe\">\n",
       "  <thead>\n",
       "    <tr style=\"text-align: right;\">\n",
       "      <th></th>\n",
       "      <th>Country</th>\n",
       "      <th>countryinns</th>\n",
       "    </tr>\n",
       "  </thead>\n",
       "  <tbody>\n",
       "    <tr>\n",
       "      <th>5</th>\n",
       "      <td>ICC/WI</td>\n",
       "      <td>400</td>\n",
       "    </tr>\n",
       "    <tr>\n",
       "      <th>0</th>\n",
       "      <td>AUS</td>\n",
       "      <td>380</td>\n",
       "    </tr>\n",
       "    <tr>\n",
       "      <th>10</th>\n",
       "      <td>SL</td>\n",
       "      <td>374</td>\n",
       "    </tr>\n",
       "    <tr>\n",
       "      <th>11</th>\n",
       "      <td>WI</td>\n",
       "      <td>365</td>\n",
       "    </tr>\n",
       "    <tr>\n",
       "      <th>1</th>\n",
       "      <td>ENG</td>\n",
       "      <td>364</td>\n",
       "    </tr>\n",
       "    <tr>\n",
       "      <th>3</th>\n",
       "      <td>ICC/PAK</td>\n",
       "      <td>329</td>\n",
       "    </tr>\n",
       "    <tr>\n",
       "      <th>2</th>\n",
       "      <td>ICC/IND</td>\n",
       "      <td>319</td>\n",
       "    </tr>\n",
       "    <tr>\n",
       "      <th>8</th>\n",
       "      <td>PAK</td>\n",
       "      <td>313</td>\n",
       "    </tr>\n",
       "    <tr>\n",
       "      <th>9</th>\n",
       "      <td>SA</td>\n",
       "      <td>278</td>\n",
       "    </tr>\n",
       "    <tr>\n",
       "      <th>4</th>\n",
       "      <td>ICC/SA</td>\n",
       "      <td>277</td>\n",
       "    </tr>\n",
       "    <tr>\n",
       "      <th>7</th>\n",
       "      <td>NZ</td>\n",
       "      <td>251</td>\n",
       "    </tr>\n",
       "    <tr>\n",
       "      <th>6</th>\n",
       "      <td>IND</td>\n",
       "      <td>248</td>\n",
       "    </tr>\n",
       "    <tr>\n",
       "      <th>12</th>\n",
       "      <td>ZIM</td>\n",
       "      <td>232</td>\n",
       "    </tr>\n",
       "  </tbody>\n",
       "</table>\n",
       "</div>"
      ],
      "text/plain": [
       "    Country  countryinns\n",
       "5    ICC/WI          400\n",
       "0       AUS          380\n",
       "10       SL          374\n",
       "11       WI          365\n",
       "1       ENG          364\n",
       "3   ICC/PAK          329\n",
       "2   ICC/IND          319\n",
       "8       PAK          313\n",
       "9        SA          278\n",
       "4    ICC/SA          277\n",
       "7        NZ          251\n",
       "6       IND          248\n",
       "12      ZIM          232"
      ]
     },
     "execution_count": 98,
     "metadata": {},
     "output_type": "execute_result"
    }
   ],
   "source": [
    "# Q4 : Max Highest Inns Score by Country\n",
    "\n",
    "df.groupby('Country')['Highest_Inns_Scored'].max().to_frame('countryinns').reset_index().sort_values('countryinns', ascending = False)"
   ]
  },
  {
   "cell_type": "code",
   "execution_count": null,
   "id": "e8512454",
   "metadata": {},
   "outputs": [],
   "source": []
  }
 ],
 "metadata": {
  "kernelspec": {
   "display_name": "Python 3",
   "language": "python",
   "name": "python3"
  },
  "language_info": {
   "codemirror_mode": {
    "name": "ipython",
    "version": 3
   },
   "file_extension": ".py",
   "mimetype": "text/x-python",
   "name": "python",
   "nbconvert_exporter": "python",
   "pygments_lexer": "ipython3",
   "version": "3.13.2"
  }
 },
 "nbformat": 4,
 "nbformat_minor": 5
}
